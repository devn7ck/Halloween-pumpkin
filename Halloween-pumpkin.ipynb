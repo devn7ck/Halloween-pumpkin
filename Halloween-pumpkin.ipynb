{
 "cells": [
  {
   "cell_type": "markdown",
   "metadata": {},
   "source": [
    "### Draw Pumpkin Using Turtle Animation"
   ]
  },
  {
   "cell_type": "markdown",
   "metadata": {},
   "source": [
    "import turtle animation package"
   ]
  },
  {
   "cell_type": "code",
   "execution_count": null,
   "metadata": {},
   "outputs": [],
   "source": [
    "import turtle"
   ]
  },
  {
   "cell_type": "markdown",
   "metadata": {},
   "source": [
    "Set screen and background color"
   ]
  },
  {
   "cell_type": "code",
   "execution_count": null,
   "metadata": {},
   "outputs": [],
   "source": [
    "window = turtle.Screen()\n",
    "window.bgcolor(\"black\")"
   ]
  },
  {
   "cell_type": "markdown",
   "metadata": {},
   "source": [
    "Whole pumpkin"
   ]
  },
  {
   "cell_type": "code",
   "execution_count": null,
   "metadata": {},
   "outputs": [],
   "source": [
    "pumpkin = turtle.Turtle()\n",
    "pumpkin.hideturtle()\n",
    "pumpkin.color(\"brown\")\n",
    "pumpkin.dot(200)\n",
    "pumpkin.forward(60)\n",
    "pumpkin.dot(200)"
   ]
  },
  {
   "cell_type": "markdown",
   "metadata": {},
   "source": [
    "The turtle to \"draw\" the pumpkin"
   ]
  },
  {
   "cell_type": "code",
   "execution_count": null,
   "metadata": {},
   "outputs": [],
   "source": [
    "draw = turtle.Turtle()"
   ]
  },
  {
   "cell_type": "markdown",
   "metadata": {},
   "source": [
    "\"Flatten\" the lower part of the pumpkin"
   ]
  },
  {
   "cell_type": "code",
   "execution_count": null,
   "metadata": {},
   "outputs": [],
   "source": [
    "draw.penup()\n",
    "draw.setposition(-200, -100)\n",
    "draw.pensize(35)\n",
    "draw.pendown()\n",
    "draw.forward(600)\n",
    "draw.pensize(2)"
   ]
  },
  {
   "cell_type": "markdown",
   "metadata": {},
   "source": [
    "Function to carve pumpkin "
   ]
  },
  {
   "cell_type": "code",
   "execution_count": null,
   "metadata": {},
   "outputs": [],
   "source": [
    "def draw_pumpkin(colour):\n",
    "   draw.color(colour)\n",
    "\n",
    "   # Make eyes\n",
    "   def make_eye(start, position):\n",
    "       draw.setheading(0)\n",
    "       draw.penup()\n",
    "       draw.setposition(*start)\n",
    "       draw.pendown()\n",
    "       draw.begin_fill()\n",
    "       draw.forward(position * 40)\n",
    "       draw.setheading(position * 135)\n",
    "       draw.forward(position * 70)\n",
    "       draw.end_fill()\n",
    "\n",
    "   make_eye((-20, 20), 1)\n",
    "   make_eye((80, 20), -1)\n",
    "\n",
    "   # Make mouth\n",
    "   draw.penup()\n",
    "   draw.setposition(-20, -30)\n",
    "   draw.setheading(45)\n",
    "   draw.pendown()\n",
    "   draw.pensize(1)\n",
    "   draw.begin_fill()\n",
    "   for _ in range(5):\n",
    "       draw.forward(15)\n",
    "       draw.right(90)\n",
    "       draw.forward(15)\n",
    "       draw.left(90)\n",
    "   draw.setheading(260)\n",
    "   draw.forward(20)\n",
    "   draw.setheading(180)\n",
    "   draw.forward(99)\n",
    "   draw.end_fill()\n",
    "\n",
    "   # Make nose\n",
    "   draw.penup()\n",
    "   draw.setposition(30, 0)\n",
    "   draw.setheading(90)\n",
    "   draw.shape(\"triangle\")\n",
    "   draw.stamp()\n"
   ]
  },
  {
   "cell_type": "markdown",
   "metadata": {},
   "source": [
    "Call the function with a color to carve the pumpkin"
   ]
  },
  {
   "cell_type": "code",
   "execution_count": null,
   "metadata": {},
   "outputs": [],
   "source": [
    "draw_pumpkin(\"yellow\")"
   ]
  },
  {
   "cell_type": "markdown",
   "metadata": {},
   "source": [
    "Write text on screen"
   ]
  },
  {
   "cell_type": "code",
   "execution_count": null,
   "metadata": {},
   "outputs": [],
   "source": [
    "text = turtle.Turtle()\n",
    "text.hideturtle()\n",
    "text.color(\"white\")\n",
    "text.penup()\n",
    "text.sety(175)\n",
    "text.write(\"ANGRY PUMPKIN - Turtle drew this!\", font=(\"Trattatello\", 28, \"bold\"), align=\"center\")"
   ]
  },
  {
   "cell_type": "markdown",
   "metadata": {},
   "source": [
    "Execute turtle animation completion"
   ]
  },
  {
   "cell_type": "code",
   "execution_count": null,
   "metadata": {},
   "outputs": [],
   "source": [
    "turtle.done()"
   ]
  }
 ],
 "metadata": {
  "language_info": {
   "name": "python"
  }
 },
 "nbformat": 4,
 "nbformat_minor": 2
}
